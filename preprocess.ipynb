{
  "nbformat": 4,
  "nbformat_minor": 0,
  "metadata": {
    "colab": {
      "name": "preprocess.ipynb",
      "provenance": [],
      "toc_visible": true,
      "mount_file_id": "1gqW_G4lXiXgphMp916KgeMfOTxTNXnHM",
      "authorship_tag": "ABX9TyOwrh3KEYND6ibbnx5d97zB",
      "include_colab_link": true
    },
    "kernelspec": {
      "name": "python3",
      "display_name": "Python 3"
    }
  },
  "cells": [
    {
      "cell_type": "markdown",
      "metadata": {
        "id": "view-in-github",
        "colab_type": "text"
      },
      "source": [
        "<a href=\"https://colab.research.google.com/github/fuku-nao/0826-kadai/blob/master/preprocess.ipynb\" target=\"_parent\"><img src=\"https://colab.research.google.com/assets/colab-badge.svg\" alt=\"Open In Colab\"/></a>"
      ]
    },
    {
      "cell_type": "code",
      "metadata": {
        "id": "JNCczEVvQ1vB",
        "colab_type": "code",
        "colab": {
          "base_uri": "https://localhost:8080/",
          "height": 144
        },
        "outputId": "caf5b8c6-4f5c-4fbb-9ae6-d5800de7681c"
      },
      "source": [
        "import sys\n",
        "sys.path.append('/content/drive/My Drive/gazoubunrui')\n",
        "\n",
        "import ic_module as ic\n",
        "\n",
        "import importlib\n",
        "importlib.reload(ic)\n",
        "\n",
        "import os.path as op\n",
        "\n",
        "i = 0\n",
        "for filename in ic.FileNames :\n",
        "    # ディレクトリ名入力\n",
        "    while True :\n",
        "        dirname = input(\">>「\" + ic.ClassNames[i] + \"」の画像のあるディレクトリ ： \")\n",
        "        if op.isdir(dirname) :\n",
        "            break\n",
        "        print(\">> そのディレクトリは存在しません！\")\n",
        "\n",
        "    # 関数実行\n",
        "    ic.PreProcess(dirname, filename, var_amount=3)\n",
        "    i += 1"
      ],
      "execution_count": 16,
      "outputs": [
        {
          "output_type": "stream",
          "text": [
            ">>「hashimoto_kannna」の画像のあるディレクトリ ： /content/drive/My Drive/gazoubunrui/face/hashimoto_kannna\n",
            ">> /content/drive/My Drive/gazoubunrui/face/hashimoto_kannnaから68個のファイル読み込み成功\n",
            ">>「horikita_maki」の画像のあるディレクトリ ： /content/drive/My Drive/gazoubunrui/face/horikita_maki\n",
            ">> /content/drive/My Drive/gazoubunrui/face/horikita_makiから72個のファイル読み込み成功\n",
            ">>「sasaki_nozomi」の画像のあるディレクトリ ： /content/drive/My Drive/gazoubunrui/face/sasaki_nozomi\n",
            ">> /content/drive/My Drive/gazoubunrui/face/sasaki_nozomiから68個のファイル読み込み成功\n"
          ],
          "name": "stdout"
        }
      ]
    },
    {
      "cell_type": "code",
      "metadata": {
        "id": "4HYJMV15agpW",
        "colab_type": "code",
        "colab": {}
      },
      "source": [
        ""
      ],
      "execution_count": null,
      "outputs": []
    }
  ]
}