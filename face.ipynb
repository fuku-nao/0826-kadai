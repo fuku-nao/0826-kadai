{
  "nbformat": 4,
  "nbformat_minor": 0,
  "metadata": {
    "colab": {
      "name": "face.ipynb",
      "provenance": [],
      "mount_file_id": "1wTnc7cbv1qvlwLrUTN50GxkdqYmArOYk",
      "authorship_tag": "ABX9TyMTfC97X3yj9/MOpwTjo0J6",
      "include_colab_link": true
    },
    "kernelspec": {
      "name": "python3",
      "display_name": "Python 3"
    }
  },
  "cells": [
    {
      "cell_type": "markdown",
      "metadata": {
        "id": "view-in-github",
        "colab_type": "text"
      },
      "source": [
        "<a href=\"https://colab.research.google.com/github/fuku-nao/0826-kadai/blob/master/face.ipynb\" target=\"_parent\"><img src=\"https://colab.research.google.com/assets/colab-badge.svg\" alt=\"Open In Colab\"/></a>"
      ]
    },
    {
      "cell_type": "code",
      "metadata": {
        "id": "14m1JkQ8sYjS",
        "colab_type": "code",
        "colab": {}
      },
      "source": [
        "#画像の水増し\n",
        "%matplotlib inline\n",
        "\n",
        "\n",
        "import cv2\n",
        "import matplotlib.pyplot as plt\n",
        "import matplotlib.image as mpimg\n",
        "import sys\n",
        "from keras.preprocessing.image import array_to_img,img_to_array,load_img\n",
        "import numpy as np\n",
        "import os\n",
        "\n",
        "\n",
        "X_train=[]\n",
        "Y_train=[]\n",
        "\n",
        "X_test=[]\n",
        "Y_test=[]\n",
        "\n",
        "Mydribe =\"/content/drive/My Drive/gazoubunrui\"\n",
        "l=os.listdir(Mydribe + \"/original_data\")\n",
        "\n",
        "# https://github.com/opencv/opencv/tree/master/data/haarcascades\n",
        "# https://raw.githubusercontent.com/opencv/opencv/master/data/haarcascades/haarcascade_frontalface_alt.xml\n",
        "cascade_path=\"/content/drive/My Drive/gazoubunrui/haarcascade_frontalface_alt.xml\"\n",
        "\n",
        "for i in l:\n",
        "    result_dir=i.split(\".\")[0]\n",
        "    print(result_dir)\n",
        "    # os.mkdir(Mydribe + \"/face/\"+result_dir)\n",
        "    os.makedirs(Mydribe + \"/face/\"+result_dir, exist_ok=True)\n",
        "\n",
        "    m=os.listdir(Mydribe + \"/original_data/\"+i)\n",
        "    n=0\n",
        "    for target_file in m:\n",
        "        origin_image=(Mydribe + \"/original_data/\"+i+\"/\"+target_file)\n",
        "        print(origin_image)\n",
        "        cascade=cv2.CascadeClassifier(cascade_path)\n",
        "        image=cv2.imread(origin_image)\n",
        "\n",
        "        image=cv2.cvtColor(image,cv2.COLOR_BGR2RGB)\n",
        "        gray=cv2.cvtColor(image,cv2.COLOR_RGB2GRAY)\n",
        "        plt.imshow(gray)\n",
        "\n",
        "        facerect=cascade.detectMultiScale(gray,scaleFactor=1.1,minNeighbors=1,minSize=(10,10))\n",
        "\n",
        "        for x,y,w,h in facerect:\n",
        "            face=gray[y:y+h,x:x+w]\n",
        "            face=cv2.resize(face,(128,128))\n",
        "            save_path=Mydribe + \"/face/\"+result_dir+\"/image_\"+str(n)+\".jpg\"\n",
        "            cv2.imwrite(save_path,face)\n",
        "            n=n+1\n",
        "            face=cv2.flip(face,1)\n",
        "            save_path=Mydribe + \"/face/\"+result_dir+\"/image_\"+str(n)+\".jpg\"\n",
        "            cv2.imwrite(save_path,face)\n",
        "            n=n+1\n",
        "            face=cv2.blur(face,(10,10))\n",
        "            save_path=Mydribe + \"/face/\"+result_dir+\"/image_\"+str(n)+\".jpg\"\n",
        "            cv2.imwrite(save_path,face)\n",
        "            n=n+1\n",
        "            face=cv2.blur(cv2.flip(face,1),(10,10))\n",
        "            save_path=Mydribe + \"/face/\"+result_dir+\"/image_\"+str(n)+\".jpg\"\n",
        "            cv2.imwrite(save_path,face)\n",
        "            n=n+1"
      ],
      "execution_count": null,
      "outputs": []
    }
  ]
}