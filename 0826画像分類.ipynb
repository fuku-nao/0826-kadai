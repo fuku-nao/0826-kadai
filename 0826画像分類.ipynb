{
  "nbformat": 4,
  "nbformat_minor": 0,
  "metadata": {
    "colab": {
      "name": "0826画像分類",
      "provenance": [],
      "mount_file_id": "1QJuqQoqKnY_e95IFQtHo3QNZLIUwp7K4",
      "authorship_tag": "ABX9TyMZLJax1nL506enT+6mNQuf",
      "include_colab_link": true
    },
    "kernelspec": {
      "name": "python3",
      "display_name": "Python 3"
    }
  },
  "cells": [
    {
      "cell_type": "markdown",
      "metadata": {
        "id": "view-in-github",
        "colab_type": "text"
      },
      "source": [
        "<a href=\"https://colab.research.google.com/github/fuku-nao/0826-kadai/blob/master/0826%E7%94%BB%E5%83%8F%E5%88%86%E9%A1%9E.ipynb\" target=\"_parent\"><img src=\"https://colab.research.google.com/assets/colab-badge.svg\" alt=\"Open In Colab\"/></a>"
      ]
    },
    {
      "cell_type": "code",
      "metadata": {
        "id": "xPf4upbBW3Mc",
        "colab_type": "code",
        "colab": {
          "base_uri": "https://localhost:8080/",
          "height": 624
        },
        "outputId": "d483467e-2a56-4f14-ad65-95efa45fae25"
      },
      "source": [
        "#画像の取得\n",
        "!pip install icrawler\n",
        "from icrawler.builtin import BingImageCrawler\n",
        "crawler = BingImageCrawler(storage={\"root_dir\": \"hashimoto_kannna\"})\n",
        "crawler.crawl(keyword=\"橋本環奈\", max_num=20)\n",
        "from icrawler.builtin import BingImageCrawler\n",
        "crawler = BingImageCrawler(storage={\"root_dir\": \"sasaki_nozomi\"})\n",
        "crawler.crawl(keyword=\"佐々木希\", max_num=20)\n",
        "from icrawler.builtin import BingImageCrawler\n",
        "crawler = BingImageCrawler(storage={\"root_dir\": \"horikita_maki\"})\n",
        "crawler.crawl(keyword=\"堀北真希\", max_num=20)"
      ],
      "execution_count": 7,
      "outputs": [
        {
          "output_type": "stream",
          "text": [
            "2020-08-26 06:04:00,369 - INFO - icrawler.crawler - start crawling...\n",
            "2020-08-26 06:04:00,370 - INFO - icrawler.crawler - starting 1 feeder threads...\n",
            "2020-08-26 06:04:00,380 - INFO - feeder - thread feeder-001 exit\n",
            "2020-08-26 06:04:00,382 - INFO - icrawler.crawler - starting 1 parser threads...\n",
            "2020-08-26 06:04:00,386 - INFO - icrawler.crawler - starting 1 downloader threads...\n",
            "2020-08-26 06:04:00,665 - INFO - parser - parsing result page https://www.bing.com/images/async?q=橋本環奈&first=0\n",
            "2020-08-26 06:04:00,742 - ERROR - downloader - Response status code 404, file https://upload.wikimedia.org/wikipedia/commons/thumb/b/b9/Hashimoto_Kanna_at_Opening_Ceremony_of_the_Tokyo_International_Film_Festival_2017_%2840169184582%29.jpg\n",
            "2020-08-26 06:04:03,079 - INFO - downloader - image #1\thttp://www.girlsnews.tv/reimage/w1000/img20131117hashimotokanna.jpg\n",
            "2020-08-26 06:04:03,224 - INFO - downloader - image #2\thttps://cdn.snsimg.carview.co.jp/minkara/userstorage/000/042/000/663/75de8134c1.jpg\n",
            "2020-08-26 06:04:03,639 - INFO - downloader - image #3\thttps://i.pinimg.com/originals/12/d6/f5/12d6f52428e027182037476e3cf4d7ab.jpg\n",
            "2020-08-26 06:04:04,442 - ERROR - downloader - Response status code 404, file http://livedoor.blogimg.jp/solo_w-curia2/imgs/f/d/fdae5e80.jpg\n",
            "2020-08-26 06:04:05,770 - INFO - downloader - image #4\thttp://image.itmedia.co.jp/nl/articles/1706/19/l_rmfig619-2.jpg\n",
            "2020-08-26 06:04:05,859 - INFO - downloader - image #5\thttps://i.pinimg.com/originals/2d/84/6f/2d846f678c0a9d78cf3e403d90215a25.jpg\n",
            "2020-08-26 06:04:06,124 - INFO - downloader - image #6\thttps://d2wi3xvhr3qrd7.cloudfront.net/wp/wp-content/uploads/2019/02/04135233/06_K5A4219_RGB150_s.jpg\n",
            "2020-08-26 06:04:06,437 - INFO - downloader - image #7\thttp://i.huffpost.com/gadgets/slideshows/360682/slide_360682_4889710_original.jpg\n",
            "2020-08-26 06:04:06,539 - INFO - downloader - image #8\thttp://livedoor.blogimg.jp/entamepeep-pirori2ch/imgs/c/1/c160b188.jpg\n",
            "2020-08-26 06:04:06,553 - INFO - downloader - image #9\thttp://1.bp.blogspot.com/-pX7cryLkFZs/U3P_z1il8cI/AAAAAAAAqks/w_QLk9TRVm0/s1600/Hashimoto+Kanna+%E6%A9%8B%E6%9C%AC%E7%92%B0%E5%A5%88+Weekly+Playboy+April+2014+Photos+3.jpg\n",
            "2020-08-26 06:04:08,392 - INFO - downloader - image #10\thttps://www.cinemacafe.net/imgs/p/ATDRThl-6oWF9fpps9341csCOg8ODQwLCgkI/357890.jpg\n",
            "2020-08-26 06:04:09,647 - INFO - downloader - image #11\thttps://img.cinematoday.jp/a/E0011473/_size_1200x/_v_1496803052/main.jpg\n",
            "2020-08-26 06:04:09,758 - INFO - downloader - image #12\thttps://i.pinimg.com/736x/51/60/76/5160765ef80799ac71964cba2abb963a.jpg\n",
            "2020-08-26 06:04:09,974 - INFO - downloader - image #13\thttps://i.pinimg.com/originals/7b/69/7f/7b697fc67512e6e8bc107c0ec124a031.jpg\n",
            "2020-08-26 06:04:11,268 - INFO - downloader - image #14\thttps://i.daily.jp/gossip/2018/12/20/Images/f_11921499.jpg\n",
            "2020-08-26 06:04:11,332 - INFO - downloader - image #15\thttps://i.pinimg.com/736x/a8/dc/55/a8dc55bfd37636a6ddf469206ce7a173.jpg\n",
            "2020-08-26 06:04:11,798 - INFO - downloader - image #16\thttps://images-na.ssl-images-amazon.com/images/I/81ZBezBQ6hL._CR500,0,1242,2208_.jpg\n",
            "2020-08-26 06:04:11,843 - INFO - downloader - image #17\thttps://upload.wikimedia.org/wikipedia/commons/7/7f/Hashimoto_Kanna_at_Opening_Ceremony_of_the_30th_TIFF_2017_trim_01.jpg\n",
            "2020-08-26 06:04:12,134 - INFO - downloader - image #18\thttps://stat.ameba.jp/user_images/20190219/04/snetjnk/26/49/j/o0800120014358672547.jpg\n",
            "2020-08-26 06:04:13,933 - INFO - downloader - image #19\thttps://www.cinemacafe.net/imgs/p/ATDRThl-6oWF9fpps9341csCOg8ODQwLCgkI/380343.jpg\n",
            "2020-08-26 06:04:15,770 - INFO - downloader - image #20\thttps://baseball-matome.tokyo/wp-content/uploads/2019/01/SJyQLNGnvNL1G643.jpg\n",
            "2020-08-26 06:04:16,138 - INFO - parser - no more page urls for thread parser-001 to parse\n",
            "2020-08-26 06:04:16,139 - INFO - parser - thread parser-001 exit\n",
            "2020-08-26 06:04:16,810 - INFO - downloader - downloaded images reach max num, thread downloader-001 is ready to exit\n",
            "2020-08-26 06:04:16,811 - INFO - downloader - thread downloader-001 exit\n",
            "2020-08-26 06:04:17,408 - INFO - icrawler.crawler - Crawling task done!\n"
          ],
          "name": "stderr"
        }
      ]
    },
    {
      "cell_type": "code",
      "metadata": {
        "id": "WiKwO7mwkjra",
        "colab_type": "code",
        "colab": {}
      },
      "source": [
        ""
      ],
      "execution_count": null,
      "outputs": []
    }
  ]
}